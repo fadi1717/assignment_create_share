{
 "cells": [
  {
   "cell_type": "markdown",
   "id": "7eeb4949-8578-46c1-833d-c870e19eb4ff",
   "metadata": {},
   "source": [
    "# Data Science Tools and Ecosystem"
   ]
  },
  {
   "cell_type": "markdown",
   "id": "97b908b5-49a0-4e4b-8c27-f0f28ed7b4b9",
   "metadata": {},
   "source": [
    "In this notebook, Data Science Tools and Ecosystem are summarized."
   ]
  },
  {
   "cell_type": "markdown",
   "id": "01c25f13-9d56-45ad-9bdf-a14fc5a17542",
   "metadata": {},
   "source": [
    "**Objectives:**\n",
    "\n",
    "The following are some of the key takeaways from this notebook:\n",
    "\n",
    "- List popular languages for Data Science\n",
    "- Explore commonly used libraries in Data Science\n",
    "- Introduce arithmetic expression examples\n",
    "- Understand how to convert minutes to hours using Python\n",
    "- Summarize the Data Science Tools and Ecosystem\n",
    "\n"
   ]
  },
  {
   "cell_type": "markdown",
   "id": "8275a746-4555-48d6-aab2-bb9b680a3baf",
   "metadata": {},
   "source": [
    "Some of the popular languages that Data Scientists use are:\n",
    "\n",
    "1. Python\n",
    "2. R\n",
    "3. SQL\n",
    "4. Julia\n",
    "5. Scala"
   ]
  },
  {
   "cell_type": "markdown",
   "id": "3c1fe0ea-6812-45d6-bce6-790396ccec9c",
   "metadata": {},
   "source": [
    "Some of the commonly used libraries used by Data Scientists include:\n",
    "\n",
    "1. NumPy\n",
    "2. Pandas\n",
    "3. Scikit-learn\n",
    "4. TensorFlow\n",
    "5. PyTorch\n",
    "6. dplyr\n",
    "7. ggplot2\n",
    "8. caret"
   ]
  },
  {
   "cell_type": "markdown",
   "id": "b46f2121-f846-40f6-a52b-eb63ad0cc058",
   "metadata": {},
   "source": [
    "| Data Science Tools |\n",
    "|--------------------|\n",
    "| Jupyter Notebook   |\n",
    "| RStudio            |\n",
    "| PyCharm            |\n"
   ]
  },
  {
   "cell_type": "markdown",
   "id": "dea88ec0-e8f6-46d7-b145-40c33c449a2d",
   "metadata": {},
   "source": [
    "### Examples of Evaluating Arithmetic Expressions in Python\n",
    "\n",
    "Below are a few examples of evaluating arithmetic expressions in Python:\n",
    "\n",
    "1. Addition:\n",
    "   - `2 + 3` evaluates to `5`\n",
    "\n",
    "2. Subtraction:\n",
    "   - `3.14 - 1.5` evaluates to `1.64`\n",
    "\n",
    "3. Multiplication:\n",
    "   - `3 * 4` evaluates to `12`\n",
    "\n",
    "4. Division:\n",
    "   - `10 / 2` evaluates to `5.0`\n",
    "\n",
    "5. Exponentiation:\n",
    "   - `2 ** 3` evaluates to `8`\n",
    "   \n",
    "\n",
    "6. Modulo (Remainder):\n",
    "   - `15 % 4` evaluates to `3`\n",
    "   \n",
    "\n",
    "\n"
   ]
  },
  {
   "cell_type": "code",
   "execution_count": 7,
   "id": "fb42fbf0-65f1-48a0-9795-e4eec3cff18f",
   "metadata": {},
   "outputs": [
    {
     "data": {
      "text/plain": [
       "17"
      ]
     },
     "execution_count": 7,
     "metadata": {},
     "output_type": "execute_result"
    }
   ],
   "source": [
    "#This a simple arithmetic expression to mutiply then add integers\n",
    "(3*4)+5\n"
   ]
  },
  {
   "cell_type": "code",
   "execution_count": 8,
   "id": "6704dfa9-c461-443c-9a5c-217c02490547",
   "metadata": {},
   "outputs": [
    {
     "data": {
      "text/plain": [
       "3.3333333333333335"
      ]
     },
     "execution_count": 8,
     "metadata": {},
     "output_type": "execute_result"
    }
   ],
   "source": [
    "# This will convert 200 minutes to hours by dividing by 60.\n",
    "minutes = 200\n",
    "hours = minutes / 60\n",
    "hours\n"
   ]
  },
  {
   "cell_type": "markdown",
   "id": "3d71a403-938e-4d03-b105-23ac785bd7a7",
   "metadata": {},
   "source": [
    "## Author\n",
    "\n",
    "Fahad Ilyas\n"
   ]
  },
  {
   "cell_type": "code",
   "execution_count": null,
   "id": "56780a36-69e3-485e-aefd-acdce069d088",
   "metadata": {},
   "outputs": [],
   "source": []
  }
 ],
 "metadata": {
  "kernelspec": {
   "display_name": "Python 3 (ipykernel)",
   "language": "python",
   "name": "python3"
  },
  "language_info": {
   "codemirror_mode": {
    "name": "ipython",
    "version": 3
   },
   "file_extension": ".py",
   "mimetype": "text/x-python",
   "name": "python",
   "nbconvert_exporter": "python",
   "pygments_lexer": "ipython3",
   "version": "3.10.9"
  }
 },
 "nbformat": 4,
 "nbformat_minor": 5
}
